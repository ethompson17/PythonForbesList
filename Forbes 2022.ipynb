{
 "cells": [
  {
   "cell_type": "markdown",
   "id": "decb53cd",
   "metadata": {},
   "source": [
    "# Source: https://www.forbes.com/billionaires/"
   ]
  },
  {
   "cell_type": "code",
   "execution_count": 5,
   "id": "0a123347",
   "metadata": {},
   "outputs": [
    {
     "data": {
      "text/html": [
       "<div>\n",
       "<style scoped>\n",
       "    .dataframe tbody tr th:only-of-type {\n",
       "        vertical-align: middle;\n",
       "    }\n",
       "\n",
       "    .dataframe tbody tr th {\n",
       "        vertical-align: top;\n",
       "    }\n",
       "\n",
       "    .dataframe thead th {\n",
       "        text-align: right;\n",
       "    }\n",
       "</style>\n",
       "<table border=\"1\" class=\"dataframe\">\n",
       "  <thead>\n",
       "    <tr style=\"text-align: right;\">\n",
       "      <th></th>\n",
       "      <th>rank</th>\n",
       "      <th>personName</th>\n",
       "      <th>age</th>\n",
       "      <th>finalWorth</th>\n",
       "      <th>year</th>\n",
       "      <th>month</th>\n",
       "      <th>category</th>\n",
       "      <th>source</th>\n",
       "      <th>country</th>\n",
       "      <th>state</th>\n",
       "      <th>...</th>\n",
       "      <th>organization</th>\n",
       "      <th>selfMade</th>\n",
       "      <th>gender</th>\n",
       "      <th>birthDate</th>\n",
       "      <th>title</th>\n",
       "      <th>philanthropyScore</th>\n",
       "      <th>residenceMsa</th>\n",
       "      <th>numberOfSiblings</th>\n",
       "      <th>bio</th>\n",
       "      <th>about</th>\n",
       "    </tr>\n",
       "  </thead>\n",
       "  <tbody>\n",
       "    <tr>\n",
       "      <th>0</th>\n",
       "      <td>1</td>\n",
       "      <td>Elon Musk</td>\n",
       "      <td>50.0</td>\n",
       "      <td>219000.0</td>\n",
       "      <td>2022</td>\n",
       "      <td>4</td>\n",
       "      <td>Automotive</td>\n",
       "      <td>Tesla, SpaceX</td>\n",
       "      <td>United States</td>\n",
       "      <td>Texas</td>\n",
       "      <td>...</td>\n",
       "      <td>Tesla</td>\n",
       "      <td>True</td>\n",
       "      <td>M</td>\n",
       "      <td>1971-06-28</td>\n",
       "      <td>CEO</td>\n",
       "      <td>1.0</td>\n",
       "      <td>NaN</td>\n",
       "      <td>NaN</td>\n",
       "      <td>Elon Musk is working to revolutionize transpor...</td>\n",
       "      <td>Musk was accepted to a graduate program at Sta...</td>\n",
       "    </tr>\n",
       "  </tbody>\n",
       "</table>\n",
       "<p>1 rows × 22 columns</p>\n",
       "</div>"
      ],
      "text/plain": [
       "   rank personName   age  finalWorth  year  month    category         source  \\\n",
       "0     1  Elon Musk  50.0    219000.0  2022      4  Automotive  Tesla, SpaceX   \n",
       "\n",
       "         country  state  ... organization selfMade gender   birthDate title  \\\n",
       "0  United States  Texas  ...        Tesla     True      M  1971-06-28   CEO   \n",
       "\n",
       "  philanthropyScore residenceMsa  numberOfSiblings  \\\n",
       "0               1.0          NaN               NaN   \n",
       "\n",
       "                                                 bio  \\\n",
       "0  Elon Musk is working to revolutionize transpor...   \n",
       "\n",
       "                                               about  \n",
       "0  Musk was accepted to a graduate program at Sta...  \n",
       "\n",
       "[1 rows x 22 columns]"
      ]
     },
     "execution_count": 5,
     "metadata": {},
     "output_type": "execute_result"
    }
   ],
   "source": [
    "import pandas as pd\n",
    "\n",
    "df = pd.read_csv('forbes_2022_billionaires.csv')\n",
    "df.head(1)\n",
    "\n"
   ]
  },
  {
   "cell_type": "code",
   "execution_count": 6,
   "id": "3f727f34",
   "metadata": {},
   "outputs": [
    {
     "data": {
      "text/plain": [
       "2668"
      ]
     },
     "execution_count": 6,
     "metadata": {},
     "output_type": "execute_result"
    }
   ],
   "source": [
    "df.shape[0]"
   ]
  },
  {
   "cell_type": "markdown",
   "id": "53ef54de",
   "metadata": {},
   "source": [
    "# What is the wealth of every single person on this list?"
   ]
  },
  {
   "cell_type": "code",
   "execution_count": 15,
   "id": "7f3bca37",
   "metadata": {},
   "outputs": [
    {
     "data": {
      "text/plain": [
       "12705950000000.0"
      ]
     },
     "execution_count": 15,
     "metadata": {},
     "output_type": "execute_result"
    }
   ],
   "source": [
    "df['finalWorth'].sum()*1000000"
   ]
  },
  {
   "cell_type": "markdown",
   "id": "5a47dc5e",
   "metadata": {},
   "source": [
    "## -- Answer 12,705,950,000,000 (trillion) --"
   ]
  },
  {
   "cell_type": "markdown",
   "id": "5d0b9439",
   "metadata": {},
   "source": [
    "# Q1: Who is the richest man from each country?"
   ]
  },
  {
   "cell_type": "code",
   "execution_count": null,
   "id": "28c4aea3",
   "metadata": {},
   "outputs": [],
   "source": [
    "df.groupby('country')"
   ]
  },
  {
   "cell_type": "markdown",
   "id": "9363991f",
   "metadata": {},
   "source": [
    "# Q2: How many billionaires are in each country?"
   ]
  },
  {
   "cell_type": "code",
   "execution_count": null,
   "id": "f6561f8c",
   "metadata": {},
   "outputs": [],
   "source": []
  }
 ],
 "metadata": {
  "kernelspec": {
   "display_name": "Python 3 (ipykernel)",
   "language": "python",
   "name": "python3"
  },
  "language_info": {
   "codemirror_mode": {
    "name": "ipython",
    "version": 3
   },
   "file_extension": ".py",
   "mimetype": "text/x-python",
   "name": "python",
   "nbconvert_exporter": "python",
   "pygments_lexer": "ipython3",
   "version": "3.9.7"
  }
 },
 "nbformat": 4,
 "nbformat_minor": 5
}
